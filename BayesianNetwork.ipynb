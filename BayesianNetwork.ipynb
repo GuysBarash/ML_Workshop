{
  "nbformat": 4,
  "nbformat_minor": 0,
  "metadata": {
    "colab": {
      "name": "BayesianNetwork.ipynb",
      "provenance": [],
      "authorship_tag": "ABX9TyO1Ysu/d036yamaVU/+XkJB",
      "include_colab_link": true
    },
    "kernelspec": {
      "name": "python3",
      "display_name": "Python 3"
    },
    "language_info": {
      "name": "python"
    }
  },
  "cells": [
    {
      "cell_type": "markdown",
      "metadata": {
        "id": "view-in-github",
        "colab_type": "text"
      },
      "source": [
        "<a href=\"https://colab.research.google.com/github/GuysBarash/ML_Workshop/blob/main/BayesianNetwork.ipynb\" target=\"_parent\"><img src=\"https://colab.research.google.com/assets/colab-badge.svg\" alt=\"Open In Colab\"/></a>"
      ]
    },
    {
      "cell_type": "code",
      "metadata": {
        "id": "CNeeahADIAgL"
      },
      "source": [
        "!pip install pomegranate\n",
        "!apt install libgraphviz-dev\n",
        "!pip install pygraphviz\n",
        "from IPython.display import clear_output \n",
        "clear_output()"
      ],
      "execution_count": 115,
      "outputs": []
    },
    {
      "cell_type": "code",
      "metadata": {
        "id": "TBneytXNH4yn"
      },
      "source": [
        "import pomegranate as pmgrnt\n",
        "\n",
        "import matplotlib.pyplot as plt\n",
        "import seaborn\n",
        "seaborn.set_style('whitegrid')\n",
        "import graphviz"
      ],
      "execution_count": 116,
      "outputs": []
    },
    {
      "cell_type": "markdown",
      "metadata": {
        "id": "xgTMnZPvJI5C"
      },
      "source": [
        "# Probabilities"
      ]
    },
    {
      "cell_type": "markdown",
      "metadata": {
        "id": "qGiQb8z1LxE4"
      },
      "source": [
        "Water source"
      ]
    },
    {
      "cell_type": "code",
      "metadata": {
        "id": "rKYUc65qIz4y"
      },
      "source": [
        "chance_of_rain = 0.31 #@param {type: \"slider\", min: 0.0, max: 1.0, step:0.01}\n",
        "chance_of_car_wash = 0.1 #@param {type: \"slider\", min: 0.0, max: 1.0, step:0.01}"
      ],
      "execution_count": 117,
      "outputs": []
    },
    {
      "cell_type": "markdown",
      "metadata": {
        "id": "kNeYAQRMLzHA"
      },
      "source": [
        "wet prob"
      ]
    },
    {
      "cell_type": "code",
      "metadata": {
        "id": "mIuG0UmuIum8"
      },
      "source": [
        "wet_on_full = 1.0 #@param {type: \"slider\", min: 0.0, max: 1.0, step:0.01}\n",
        "wet_given_rain = 0.8 #@param {type: \"slider\", min: 0.0, max: 1.0, step:0.01}\n",
        "wet_given_car_washed = 0.4 #@param {type: \"slider\", min: 0.0, max: 1.0, step:0.01}\n",
        "wet_on_empty = 0.0 #@param {type: \"slider\", min: 0.0, max: 1.0, step:0.01}"
      ],
      "execution_count": 118,
      "outputs": []
    },
    {
      "cell_type": "markdown",
      "metadata": {
        "id": "t9d-4-zoL1Lh"
      },
      "source": [
        "Slipping prob"
      ]
    },
    {
      "cell_type": "code",
      "metadata": {
        "id": "uV66b-YRIy2a"
      },
      "source": [
        "slip_on_wet = 0.6 #@param {type: \"slider\", min: 0.0, max: 1.0, step:0.01}\n",
        "slip_on_dry = 0.05 #@param {type: \"slider\", min: 0.0, max: 1.0, step:0.01}"
      ],
      "execution_count": 119,
      "outputs": []
    },
    {
      "cell_type": "markdown",
      "metadata": {
        "id": "A5XTTZmXL9Ca"
      },
      "source": [
        "# Build model"
      ]
    },
    {
      "cell_type": "markdown",
      "metadata": {
        "id": "PtzqJJ-eMGSK"
      },
      "source": [
        "Define distributions"
      ]
    },
    {
      "cell_type": "code",
      "metadata": {
        "id": "b7knK6ZkMBNL"
      },
      "source": [
        "rain = pmgrnt.DiscreteDistribution({True: chance_of_rain, False: 1 - chance_of_rain})\n",
        "car_washed = pmgrnt.DiscreteDistribution({True: chance_of_car_wash, False: 1 - chance_of_car_wash})\n",
        "\n",
        "is_wet = pmgrnt.ConditionalProbabilityTable(\n",
        "    [\n",
        "        [True, True, True, wet_on_full],\n",
        "        [True, True, False, 1 - wet_on_full],\n",
        "\n",
        "        [True, False, True, wet_given_rain],\n",
        "        [True, False, False, 1 - wet_given_rain],\n",
        "\n",
        "        [False, True, True, wet_given_car_washed],\n",
        "        [False, True, False, 1 - wet_given_car_washed],\n",
        "\n",
        "        [False, False, True, wet_on_empty],\n",
        "        [False, False, False, 1 - wet_on_empty],\n",
        "\n",
        "    ],\n",
        "    [rain, car_washed],\n",
        ")\n",
        "\n",
        "slipped = pmgrnt.ConditionalProbabilityTable(\n",
        "    [\n",
        "        [True, True, slip_on_wet],\n",
        "        [True, False, 1 - slip_on_wet],\n",
        "\n",
        "        [False, True, slip_on_dry],\n",
        "        [False, False, 1 - slip_on_dry],\n",
        "\n",
        "    ],\n",
        "    [is_wet],\n",
        ")"
      ],
      "execution_count": 120,
      "outputs": []
    },
    {
      "cell_type": "markdown",
      "metadata": {
        "id": "M_J7KFejMMYz"
      },
      "source": [
        "define nodes"
      ]
    },
    {
      "cell_type": "code",
      "metadata": {
        "id": "nJmD6xoKMOL0"
      },
      "source": [
        "rain_node = pmgrnt.Node(rain, name=\"Rain\")\n",
        "car_node = pmgrnt.Node(car_washed, name=\"Car washed\")\n",
        "wet_node = pmgrnt.Node(is_wet, name=\"Wet floor\")\n",
        "slip_node = pmgrnt.Node(slipped, name=\"Slipped\")"
      ],
      "execution_count": 121,
      "outputs": []
    },
    {
      "cell_type": "markdown",
      "metadata": {
        "id": "AH3oNH5WMPtE"
      },
      "source": [
        "build model"
      ]
    },
    {
      "cell_type": "code",
      "metadata": {
        "id": "c0S7D583MSCD"
      },
      "source": [
        "model = pmgrnt.BayesianNetwork(\"Slippery driveway\")\n",
        "model.add_states(rain_node, car_node, wet_node, slip_node)\n",
        "model.add_edge(rain_node, wet_node)\n",
        "model.add_edge(car_node, wet_node)\n",
        "model.add_edge(wet_node, slip_node)\n",
        "model.bake()"
      ],
      "execution_count": 122,
      "outputs": []
    },
    {
      "cell_type": "markdown",
      "metadata": {
        "id": "3MNWuNbGMd_M"
      },
      "source": [
        "# Visualization"
      ]
    },
    {
      "cell_type": "code",
      "metadata": {
        "colab": {
          "base_uri": "https://localhost:8080/",
          "height": 248
        },
        "id": "KbW1evFhMgqd",
        "outputId": "1ed33820-facd-42dd-80b6-5d0bdb55630b"
      },
      "source": [
        "model.plot()"
      ],
      "execution_count": 123,
      "outputs": [
        {
          "output_type": "display_data",
          "data": {
            "image/png": "[encoded data removed]",
            "text/plain": [
              "<Figure size 432x288 with 1 Axes>"
            ]
          },
          "metadata": {
            "tags": []
          }
        }
      ]
    },
    {
      "cell_type": "markdown",
      "metadata": {
        "id": "4Y-vdRsYOLGl"
      },
      "source": [
        "# Proof of independence"
      ]
    },
    {
      "cell_type": "code",
      "metadata": {
        "colab": {
          "base_uri": "https://localhost:8080/"
        },
        "id": "qtf5MIa5OQ5L",
        "outputId": "49d2c1fc-7023-4707-f188-1cab4638f9dd"
      },
      "source": [
        "model.predict_proba({'Rain':True,'Car washed':True,\"Wet floor\":True})"
      ],
      "execution_count": 124,
      "outputs": [
        {
          "output_type": "execute_result",
          "data": {
            "text/plain": [
              "array([True, True, True, {\n",
              "                             \"class\" : \"Distribution\",\n",
              "                             \"dtype\" : \"bool\",\n",
              "                             \"name\" : \"DiscreteDistribution\",\n",
              "                             \"parameters\" : [\n",
              "                                 {\n",
              "                                     \"False\" : 0.4000000000000001,\n",
              "                                     \"True\" : 0.6\n",
              "                                 }\n",
              "                             ],\n",
              "                             \"frozen\" : false\n",
              "                         }                                        ],\n",
              "      dtype=object)"
            ]
          },
          "metadata": {
            "tags": []
          },
          "execution_count": 124
        }
      ]
    },
    {
      "cell_type": "code",
      "metadata": {
        "colab": {
          "base_uri": "https://localhost:8080/"
        },
        "id": "o8QSNHONVWiV",
        "outputId": "98a3553f-e9f1-486e-9956-6b9736ce6509"
      },
      "source": [
        "for slip in [True, False]:\n",
        "  slip_str = ''\n",
        "  if not slip:\n",
        "    slip_str = 'not '\n",
        "\n",
        "  for wet_floor in [True,False]:\n",
        "    wet_str = ''\n",
        "    if not wet_floor:\n",
        "      wet_str = 'out'\n",
        "\n",
        "    slip_chance = model.predict_proba({\"Wet floor\":wet_floor})[-1].parameters[0][slip]\n",
        "    print(f\"Chance of {slip_str}Slipping with{wet_str} wet floor: {slip_chance:>.3f}\")\n",
        "\n",
        "    prob_sum = 0\n",
        "    for rain_checker in [True,False]:\n",
        "      rmsg = ''\n",
        "      if rain_checker:\n",
        "        rmsg += f\"({'RAIN':^10})+\"\n",
        "      else:\n",
        "        rmsg += f\"({'NO RAIN':^10})+\"\n",
        "      for car_checker in [True,False]:\n",
        "        cmsg = rmsg\n",
        "        if car_checker:\n",
        "          cmsg += f\"({'CAR WASHED':^20})\"\n",
        "        else:\n",
        "          cmsg += f\"({'CAR NOT WASHED':^20})\"\n",
        "\n",
        "        wmsg = cmsg\n",
        "        if wet_floor:\n",
        "          wmsg += f\"+({'WET FLOOR':^15})\"\n",
        "        else:\n",
        "          wmsg += f\"+({'FLOOR NOT WET':^15})\"\n",
        "\n",
        "    \n",
        "\n",
        "        is_legal = model.predict_proba({\"Rain\":rain_checker,\"Car washed\":car_checker})[-2].parameters[0][wet_floor] > 0\n",
        "        slip_chance = model.predict_proba({\"Rain\":rain_checker,\n",
        "                                          \"Car washed\":car_checker,\n",
        "                                          \"Wet floor\":wet_floor,\n",
        "                                          })[-1].parameters[0][slip]\n",
        "\n",
        "        if is_legal:\n",
        "          pmsg = f\"-> Chance of slipping {slip_chance:>.3f}\"\n",
        "        else:\n",
        "          pmsg = f\"-> Illegal combination\"\n",
        "        msg = wmsg + pmsg\n",
        "        print(msg)\n",
        "    print(\"     \")\n",
        "  print(\"              \")    \n",
        "\n",
        "          \n"
      ],
      "execution_count": 125,
      "outputs": [
        {
          "output_type": "stream",
          "text": [
            "Chance of Slipping with wet floor: 0.600\n",
            "(   RAIN   )+(     CAR WASHED     )+(   WET FLOOR   )-> Chance of slipping 0.600\n",
            "(   RAIN   )+(   CAR NOT WASHED   )+(   WET FLOOR   )-> Chance of slipping 0.600\n",
            "( NO RAIN  )+(     CAR WASHED     )+(   WET FLOOR   )-> Chance of slipping 0.600\n",
            "( NO RAIN  )+(   CAR NOT WASHED   )+(   WET FLOOR   )-> Illegal combination\n",
            "     \n",
            "Chance of Slipping without wet floor: 0.050\n",
            "(   RAIN   )+(     CAR WASHED     )+( FLOOR NOT WET )-> Illegal combination\n",
            "(   RAIN   )+(   CAR NOT WASHED   )+( FLOOR NOT WET )-> Chance of slipping 0.050\n",
            "( NO RAIN  )+(     CAR WASHED     )+( FLOOR NOT WET )-> Chance of slipping 0.050\n",
            "( NO RAIN  )+(   CAR NOT WASHED   )+( FLOOR NOT WET )-> Chance of slipping 0.050\n",
            "     \n",
            "              \n",
            "Chance of not Slipping with wet floor: 0.400\n",
            "(   RAIN   )+(     CAR WASHED     )+(   WET FLOOR   )-> Chance of slipping 0.400\n",
            "(   RAIN   )+(   CAR NOT WASHED   )+(   WET FLOOR   )-> Chance of slipping 0.400\n",
            "( NO RAIN  )+(     CAR WASHED     )+(   WET FLOOR   )-> Chance of slipping 0.400\n",
            "( NO RAIN  )+(   CAR NOT WASHED   )+(   WET FLOOR   )-> Illegal combination\n",
            "     \n",
            "Chance of not Slipping without wet floor: 0.950\n",
            "(   RAIN   )+(     CAR WASHED     )+( FLOOR NOT WET )-> Illegal combination\n",
            "(   RAIN   )+(   CAR NOT WASHED   )+( FLOOR NOT WET )-> Chance of slipping 0.950\n",
            "( NO RAIN  )+(     CAR WASHED     )+( FLOOR NOT WET )-> Chance of slipping 0.950\n",
            "( NO RAIN  )+(   CAR NOT WASHED   )+( FLOOR NOT WET )-> Chance of slipping 0.950\n",
            "     \n",
            "              \n"
          ],
          "name": "stdout"
        }
      ]
    }
  ]
}